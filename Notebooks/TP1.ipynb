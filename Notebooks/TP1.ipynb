{
 "cells": [
  {
   "cell_type": "markdown",
   "metadata": {},
   "source": [
    "## TP1. Loi Forte des Grands Nombres, TCL, Estimation\n",
    "\n",
    "### 1 Présentation générale des TP\n",
    "\n",
    "A la fin de chaque séance vous devez envoyer par mail à votre enseignant ce que vous avez fait pendant les 2h00. Chaque TP sera noté sur 5 points. De plus, vous aurez par binôme à rendre à M. Klein un compte rendu de TP qui sera noté sur 10 points. Dans certains énoncés de TP il pourra y avoir des parties théoriques. Celles-ci ne sont pas à rédiger\n",
    "pendant la séance mais devront figurer dans le compte rendu final.\n",
    "\n",
    "\n",
    "### 2 Exercices de TP\n",
    "\n",
    "Nous aurons besoin de certaines bibliothèques de Python qui seront chargées avec les lignes suivantes\n"
   ]
  },
  {
   "cell_type": "code",
   "execution_count": 2,
   "metadata": {},
   "outputs": [],
   "source": [
    "import matplotlib.pyplot as plt\n",
    "import math\n",
    "import numpy as np\n",
    "import numpy.random as rd"
   ]
  },
  {
   "cell_type": "markdown",
   "metadata": {},
   "source": [
    "**Exercice 1**\n",
    "\n",
    "1. Simuler $N=10000$ variables aléatoires $(X_1, . . ., X_N)$ de loi $N(m, \\sigma^2)$ (vous choisirez une valeur pour $m$ et une autre pour $\\sigma^2$) et calculer la moyenne et la variance empirique de l’échantillon.\n",
    "\n",
    "2. Pour $k\\geq 1$ on pose $\\bar{X}_k = 1/k\\sum_{j=1}^{k}X_j$, tracer la courbe représentative de $k \\to \\bar{X}_k$. Que remarque-t-on? Que se passe-t-il si on simule un nouvel échantillon de taille $N$ ? Quel résultat sommes-nous en train d’illustrer?\n",
    "\n",
    "3. Tracer la courbe $k \\to \\sqrt{k}(\\bar{X}_k - m)/\\sigma$. Que remarquez-vous?\n",
    "\n",
    "4. Répéter l’expérience de la question précédente 5 fois en traçant maintenant sur le même graphique les 5 courbes. Que remarque-t-on? Cela vous surprend-il?\n",
    "\n",
    "5. Soit $n = 1000$, simuler un tableau de $n$ lignes et $N$ colonnes de variables aléatoires $(X_{i,j})_{1\\leq i\\leq n,1\\leq j\\leq N}$ de loi $N(m, \\sigma^2)$.\n",
    "\n",
    "    (a) Calculer les $n$ valeurs\n",
    "    \n",
    "\\begin{equation*}\n",
    " G_i=\\sqrt{N}\\frac{\\frac{1}{N}\\sum_{j=1}^{N}X_{i, j} - m}{\\sigma}\n",
    "\\end{equation*}\n",
    "\n",
    "    (b) Tracer l’histogramme de ces $n$ valeurs.   \n",
    "    (c) Conclure.\n",
    "\n",
    "\n",
    "**Exercice 2**\n",
    "\n",
    "Fixer un nombre $\\theta>0$. Dans la suite, $\\theta$ jouera le rôle du paramètre inconnu que nous cherchons à estimer. Soit $(X_1, \\dots, X_N)$ un $N$-échantillon de loi uniforme sur $[0, \\theta]$. On note $M_N=\\max_{1\\leq i\\leq N}X_i$ et $\\bar{X}_N = 1/N\\sum_{j=1}^{N}X_j$.\n",
    "\n",
    "1. Simuler $N=10000$ variables aléatoires indépendantes de loi uniforme sur $[0, \\theta]$. Calculer la moyenne et la variance empirique de l’échantillon.\n",
    "\n",
    "2. Sur le même graphe représenter les courbes $k\\to 2\\bar{X}_k$ et $k\\to M_k$. Que remarque-t-on? Cela est-il cohérent avec les résultats vus en TD?\n",
    "\n",
    "3. Rappeler quelles sont les lois limites de $\\sqrt{N}(2\\bar{X}_N - \\theta)$ et $N(\\theta - M_N)$ puis faire un programme permettant d’illustrer ces deux convergences en loi.\n",
    "\n",
    "\n",
    "**Exercice 3**\n",
    "\n",
    "Soit $\\theta>0$, $\\lambda>0$ et $(X_1, \\dots, X_N)$ un $N$-échantillon dont la loi par rapport à la mesure de Lebesgue admet la densité pour $x\\geq\\theta$ :\n",
    "\n",
    "\\begin{equation*}\n",
    "f_{\\theta, \\lambda}(x) = \\lambda e^{-\\lambda(x-\\theta)}\n",
    "\\end{equation*}\n",
    "\n",
    "1. Partie théorique : nous supposons dans cette partie que $\\theta$ est inconnu et que $\\lambda$ est connu.\n",
    "\n",
    "    (a) Montrer que $\\bar{\\theta}:=\\bar{X}_N − 1/lambda$ est un estimateur de $\\theta$ qui converge p.s vers $\\theta$ et calculer son erreur quadratique moyenne.\n",
    "    \n",
    "    (b) Quelle est la loi limite de $\\sqrt{N}(\\bar{\\theta} - \\theta)$ ?\n",
    "    \n",
    "    (c) Montrer que $m_N=\\min_{1\\leq i\\leq N}X_i$ est l’estimateur du maixum de vraisemblance de $\\theta$. Etudier la converge presque sûre de $m_N$ vers $\\theta$ et calculer son erreur quadratique moyenne.\n",
    "    \n",
    "    (d) Quelle est la loi limite de $N(\\theta - m_N)$?\n",
    "    \n",
    "    (e) Quel estimateur est-il judicieux de choisir?\n",
    "    \n",
    "\n",
    "2. Partie numérique\n",
    "\n",
    "    (a) Simuler $N=10000$ variables aléatoires indépendantes de densité $f_{\\theta, \\lambda}$. Calculer la moyenne et la variance empirique de l’échantillon.\n",
    "    \n",
    "    (b) Sur le même graphe représenter les courbes $k\\to \\bar{X}_k-1/\\lambda$ et $k\\to m_k$. Que remarque-t-on? Cela est-il cohérent avec les résultats de la partie théorique?\n",
    "    \n",
    "    (c) Faire un programme permettant d'illustrer les deux convergences en loi de la partie théorique.\n",
    "    \n",
    "\n",
    "3. Les courageux pourront étudier théoriquement et numériquement ce qui se passe lorsque l’on ne suppose plus $\\lambda$ connu (par exemple on pourra étudier les estimateurs de type moments et du maximum de vraisemblance du couple $(\\theta, \\lambda)$)."
   ]
  },
  {
   "cell_type": "code",
   "execution_count": null,
   "metadata": {},
   "outputs": [],
   "source": []
  }
 ],
 "metadata": {
  "kernelspec": {
   "display_name": "Python 3",
   "language": "python",
   "name": "python3"
  },
  "language_info": {
   "codemirror_mode": {
    "name": "ipython",
    "version": 3
   },
   "file_extension": ".py",
   "mimetype": "text/x-python",
   "name": "python",
   "nbconvert_exporter": "python",
   "pygments_lexer": "ipython3",
   "version": "3.7.4"
  }
 },
 "nbformat": 4,
 "nbformat_minor": 2
}
