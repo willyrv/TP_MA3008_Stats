{
 "cells": [
  {
   "cell_type": "markdown",
   "metadata": {},
   "source": [
    "## TP Python 2. Indices de Sobol et Intervalles de Confiance\n",
    "\n",
    "A la fin la séance (avant de quitter la salle) vous devez envoyer par mail à votre enseignant ce que vous avez fait pendant les 2h00. Chaque TP sera noté sur 3 points. De plus, vous aurez par binôme à rendre à M. Klein un compte rendu de TP qui sera noté sur 11 points.  \n",
    "Dans certains énoncés de TP il pourra y avoir des parties théoriques. Celles-ci ne sont pas à rédiger pendant la séance mais devront figurer dans le compte rendu final.\n",
    "\n",
    "Veuillez aussi regarder [ce notebook](./Outils_TP2.ipynb) avec des explications et exemples utiles concernant les fonction de *numpy* qui peuvent nous faciliter le travail dans ce TP.\n"
   ]
  },
  {
   "cell_type": "code",
   "execution_count": null,
   "metadata": {},
   "outputs": [],
   "source": [
    "# Nous aurons besoin de certaines bibliothèques de Python. Vous devrez donc taper les lignes suivantes\n",
    "\n",
    "import matplotlib.pyplot as plt\n",
    "import numpy as np\n",
    "from scipy.stats import norm\n",
    "from scipy.stats import t\n"
   ]
  },
  {
   "cell_type": "markdown",
   "metadata": {},
   "source": [
    "### Exercice 1. Autour des indices de Sobol \n",
    "\n",
    "On rappelle que l’indice de Sobol $S^{i}$ est défini par :\n",
    "\n",
    "$$\n",
    "S^i=\\frac{\\hbox{Var}\\left(\\mathbb E[Y|X_i]\\right)}{\\hbox{Var}(Y)}\n",
    "$$\n",
    "\n",
    "On rappelle aussi les formules de trigonom\\'etrie suivantes\n",
    "\n",
    "$$\n",
    "\\sin^2(t)=\\frac12\\left(1-\\cos(2t)\\right)\n",
    "$$\n",
    "\n",
    "$$\n",
    "\\sin^4(t)=\\frac18(3-4\\cos(2t)+2\\cos(4t))\n",
    "$$\n",
    "\n",
    "\n",
    "1. Partie Théorique\n",
    "\n",
    "Soient $X_1,X_2,X_3$ trois variables aléatoires indépendantes de lois Uniforme sur $[-\\pi,\\pi]$ et \n",
    "\n",
    "$$\n",
    "Y=\\sin X_1+7 \\sin^2 X_2+0.1 X_3^4 \\sin X_1 .\n",
    "$$  \n",
    "    a) Calculer $S^1$, $S^2$ et $S^3$.  \n",
    "    b) Pour $1\\leq i\\leq 3$, écrire l'estimateur de $S^i$ et montrer en utilisant la Delta méthode qu'il est asymptotiquement normal. On admettra dans la suite que la variance limite est donnée par\n",
    "\n",
    "$$\n",
    "\\sigma^2_i:=\\frac{\\hbox{Var}(YY^i)-2S^i\\hbox{Cov}(YY^i,YY)+(S^i)^2\\hbox{Var}(YY)}{\\hbox{Var}(Y)^2}\n",
    "$$\n",
    "\n",
    "2. Partie pratique  \n",
    "     a) En utilisant la méthode Pick Freeze, écrire un code *python* permettant de calculer les estimateurs naturels des indices de Sobol.  \n",
    "     b) Écrire un code permetant d'estimer la variance limite du TCL.  \n",
    "     c) En vous inspirant du TP1, proposer un code permettant d'illustrer la convergence de vos estmateurs ainsi que le TCL.\n"
   ]
  },
  {
   "cell_type": "code",
   "execution_count": null,
   "metadata": {},
   "outputs": [],
   "source": [
    "# On code la fonction f \n",
    "# Y = f(X1, X2, X3)\n",
    "\n",
    "def f(X):\n",
    "    # X est un array de numpy qui contient trois composantes\n",
    "    # X=(X1, X2, X3)\n",
    "    X1 = X[0]\n",
    "    X2 = X[1]\n",
    "    X3 = X[2]\n",
    "    Y = 0 # Coder la fonction f tel que Y=f(X)\n",
    "    return Y"
   ]
  },
  {
   "cell_type": "code",
   "execution_count": null,
   "metadata": {},
   "outputs": [],
   "source": [
    "# Vous pouvez vérifier la fonction f avec ce code\n",
    "# Vous devez obtenir la valeur\n",
    "# 1.4142089313404727\n",
    "\n",
    "np.random.seed(1)\n",
    "X = np.random.rand(1, 3) * 2 * np.pi - np.pi\n",
    "Y = f(X[0, :])\n",
    "print(Y)"
   ]
  },
  {
   "cell_type": "code",
   "execution_count": null,
   "metadata": {},
   "outputs": [],
   "source": [
    "# Coder la methode Pick-Freeze\n",
    "# à partir des valeurs de X et de X_prime\n",
    "\n",
    "def create_XI(X, X_prime, I):\n",
    "    \"\"\"\n",
    "    X est un array de numpy de taille n\n",
    "    dans l'exercice nous avons X=(X1, X2, X3)\n",
    "    mais on peut coder la fonction pour X ayant plus\n",
    "    de 3 composantes\n",
    "    \"\"\"\n",
    "    n = len(X)\n",
    "    XI = np.zeros(n)\n",
    "    \n",
    "    # Écrire ici le code pour créer le vecteur\n",
    "    # XI à partir de X et X_prime\n",
    "    \n",
    "    return XI\n",
    "\n",
    "def compute_S_I(I, X, X_prime):\n",
    "    \"\"\"\n",
    "    I est une liste contennant les indexes. Dans notre cas\n",
    "    on aura, par exemple I = [0] pour calculer S_1.\n",
    "    X est une matrice qui contient N lignes et k colonnes,\n",
    "    chaque ligne de la matrice contient une valeur du vecteur\n",
    "    (X1, X2, ..., Xk). Dans notre exercice on aura k=3.\n",
    "    X_prime est une matrice des memes dimensions que X,\n",
    "    chaque ligne de X_prime contient k valeurs\n",
    "    (X_prime1, X_prime2, ..., X_primek). \n",
    "    Dans notre exercice on a k=3\n",
    "    \"\"\"\n",
    "    N = X.shape[0]\n",
    "    Y = np.zeros(N)\n",
    "    YI = np.zeros(N)\n",
    "    SI = 0\n",
    "    \n",
    "    # Écrire ici le code pour calculer la valeur\n",
    "    # de SI à partir de Cov(Y, YI).\n",
    "    # On utilisera la fonction create_XI\n",
    "    # qu'on a déjà programmé\n",
    "    \n",
    "    return SI\n",
    "    "
   ]
  },
  {
   "cell_type": "code",
   "execution_count": null,
   "metadata": {},
   "outputs": [],
   "source": [
    "# Ce code permet de vérifier les fonctions\n",
    "# compute_S_I et create_XI\n",
    "# Vous devez obtenir ces trois valeurs :\n",
    "#  0.3140172730562713 0.43769804532909684 0.001696365723784651\n",
    "\n",
    "N = 10000\n",
    "X = np.random.rand(N, 3) * 2 * np.pi - np.pi\n",
    "X_prime = np.random.rand(N, 3) * 2 * np.pi - np.pi\n",
    "S1_estim = compute_S_i([0], X, X_prime)\n",
    "S2_estim = compute_S_i([1], X, X_prime)\n",
    "S3_estim = compute_S_i([2], X, X_prime)\n",
    "print(S1_estim, S2_estim, S3_estim)"
   ]
  },
  {
   "cell_type": "code",
   "execution_count": null,
   "metadata": {},
   "outputs": [],
   "source": [
    "# Question b. \n",
    "# Ici l'objectif est de coder la formule donnée pour la\n",
    "# variance limite \\sigma2_i donnée dans la partie\n",
    "# b de la question 1\n",
    "\n",
    "def compute_sigma2_i(I, X, X_prime):\n",
    "    \"\"\"\n",
    "    I est une liste contennant les indexes. Dans notre cas\n",
    "    on aura, par exemple I = [0] pour calculer S_1.\n",
    "    X est une matrice qui contient N lignes et k colonnes,\n",
    "    chaque ligne de la matrice contient une valeur du vecteur\n",
    "    (X1, X2, ..., Xk). Dans notre exercice on aura k=3.\n",
    "    X_prime est une matrice des memes dimensions que X,\n",
    "    chaque ligne de X_prime contient k valeurs\n",
    "    (X_prime1, X_prime2, ..., X_primek). \n",
    "    Dans notre exercice on a k=3\n",
    "    \"\"\"\n",
    "    N = X.shape[0]\n",
    "    Y = np.zeros(N)\n",
    "    YI = np.zeros(N)\n",
    "    SI = 0\n",
    "    sigma2_i = 0\n",
    "    \n",
    "    # Écrire le code permettant de calculer la variance\n",
    "    # en utilisant la formule donnée dans la question 1 b\n",
    "    # Notez qu'il faut d'abord calculer les valeurs de\n",
    "    # Y, YI et de SI\n",
    "    \n",
    "    \n",
    "    return sigma2_i"
   ]
  },
  {
   "cell_type": "code",
   "execution_count": null,
   "metadata": {},
   "outputs": [],
   "source": [
    "# Ce code permet de vérifier les valeurs de\n",
    "# sigma_i trouvées\n",
    "# Vous devez obtenir des valeurs proches de ces trois valeurs :\n",
    "#  2.061582042298222 1.8631951743842952 3.6021791953579245\n",
    "\n",
    "N = 10000\n",
    "X = np.random.rand(N, 3) * 2 * np.pi - np.pi\n",
    "X_prime = np.random.rand(N, 3) * 2 * np.pi - np.pi\n",
    "sigma2_1 = compute_sigma2_i([0], X, X_prime)\n",
    "sigma2_2 = compute_sigma2_i([1], X, X_prime)\n",
    "sigma2_3 = compute_sigma2_i([2], X, X_prime)\n",
    "print(sigma2_1, sigma2_2, sigma2_3)"
   ]
  },
  {
   "cell_type": "code",
   "execution_count": null,
   "metadata": {},
   "outputs": [],
   "source": [
    "# Question c\n",
    "\n",
    "# Convergence des estimateurs de S_i\n",
    "N = 500\n",
    "X = None # Simuler les valeurs de X \n",
    "X_prime = None # Simuler les valeurs de X_prime\n",
    "\n",
    "# Calculer les valeurs de S_i pour differents tailles d'échantillon\n",
    "S1 = [] \n",
    "S2 = []\n",
    "S3 = []\n"
   ]
  },
  {
   "cell_type": "code",
   "execution_count": null,
   "metadata": {},
   "outputs": [],
   "source": [
    "# Faire le plot\n",
    "\n",
    "plt.plot(S1, label=\"S_1\")\n",
    "plt.plot(S2, label=\"S_2\")\n",
    "plt.plot(S3, label=\"S_3\")\n",
    "plt.legend()\n",
    "plt.show()"
   ]
  },
  {
   "cell_type": "markdown",
   "metadata": {},
   "source": [
    "Vous devez obtenir une image comme celle-ci :\n",
    "\n",
    "![convSi](./img/Convergence_de_Si.png)"
   ]
  },
  {
   "cell_type": "code",
   "execution_count": null,
   "metadata": {},
   "outputs": [],
   "source": [
    "# Pour illustrer le TCL il faut calculer plusieurs \n",
    "# valeurs SI_N de manière indépendante. Ensuite\n",
    "# on fait un histogramme de Z = sqrt(N)(SI_N - SI)\n",
    "\n",
    "def TCL_SI(I, N, n_values, SI):\n",
    "    \"\"\"\n",
    "    I: liste d'indices. Par exemple I=[0]\n",
    "    \n",
    "    N: Nombre de valeurs utilisées pour \n",
    "        calculer SI_N\n",
    "        \n",
    "    n_values: Nombre de fois qu'on va\n",
    "              calculer SI_N\n",
    "              \n",
    "    SI: La vraie valeur de SI \n",
    "        On peut utiliser une estimation faite\n",
    "        estimée dans les questions précédentes pour\n",
    "        une grande valeur de N\n",
    "    \"\"\"\n",
    "    SI_N = np.zeros(n_values)\n",
    "    \n",
    "    # Écrire le code permettant de calculer les estimation \n",
    "    # indépendantes de SI_N \n",
    "    \n",
    "    Z = SI_N  # Calculer les valeurs de Z\n",
    "    \n",
    "    # Le bloque ci-desous permet de rajouter le graphique\n",
    "    # de la densité d'une loi N(0, 1) por comparer\n",
    "    x = np.arange(-5, 5, 0.01)\n",
    "    y = norm.pdf(x, loc=0, scale=1)\n",
    "    bins=np.arange(-5, 5, 0.1)\n",
    "    plt.hist(Z, bins=50, density=True)\n",
    "    plt.legend()\n",
    "    plt.show()"
   ]
  },
  {
   "cell_type": "code",
   "execution_count": null,
   "metadata": {},
   "outputs": [],
   "source": [
    "TCL_SI([0], 300, 1000, S1_estim, np.sqrt(sigma2_1))"
   ]
  },
  {
   "cell_type": "markdown",
   "metadata": {},
   "source": [
    "Vous devez obtenir un plot comme celui-ci :\n",
    "\n",
    "![TCL_SI](./img/TCL_SI.png)"
   ]
  },
  {
   "cell_type": "code",
   "execution_count": null,
   "metadata": {},
   "outputs": [],
   "source": [
    "# Vous pouvez faire le meme plot pour S2 et S3\n",
    "TCL_SI([1], 300, 1000, S1_estim, np.sqrt(sigma2_1))\n",
    "TCL_SI([2], 300, 1000, S1_estim, np.sqrt(sigma2_1))"
   ]
  },
  {
   "cell_type": "markdown",
   "metadata": {},
   "source": [
    "### Exercice 2\n",
    "\n",
    "Soit $X_1,\\ldots,X_n$ un $n-$échantillon *iid* de loi $\\mathcal{N}(m,\\sigma^2)$\n",
    "\n",
    "1. On supposera ici que $\\sigma^2=1$  \n",
    "    a) Donner la forme d'un intervalle de confiance  bilatéral de niveau $1-\\alpha$ pour $m$.  \n",
    "    b) Pour $\\alpha=5/100$ et $n=100$ et en ayant choisit votre $m$ préféré. Écrire un programme **python** permettant  de simuler $N$ intervalles de confiances ($N=50, 100, 500, 1000)$ et calculer le nombre de fois où le vrai paramètre $m$ appartient à l'intervalle de confiance.  \n",
    "    c) Que pouvez-vous conclure?\n",
    "\n",
    "2. Reprendre les questions précédentes en ne supposant plus $\\sigma^2$ connu."
   ]
  },
  {
   "cell_type": "markdown",
   "metadata": {},
   "source": [
    "*Solution 1*\n",
    "\n",
    "Le résultat suivant est donné afin de pouvoir compléter la partie pratique. Dans le compte rendu, **vous devez détailler** comment on obtient cet intervalle. \n",
    "\n",
    "Un intervalle de confiance de niveau $1-\\alpha$ pour $m$ est :\n",
    "\n",
    "$$\n",
    "\\Big[\\bar{X}_n - \\frac{1}{\\sqrt{n}}\\mathbb{Z}_{1-\\alpha / 2}, \\bar{X}_n + \\frac{1}{\\sqrt{n}}\\mathbb{Z}_{1-\\alpha/2}\\Big]\n",
    "$$\n",
    "\n",
    "avec $\\mathbb{Z}_{1-\\alpha / 2}$ le quantile d'ordre $1-\\alpha/2$ pour une $\\mathcal{N}(0,1)$."
   ]
  },
  {
   "cell_type": "code",
   "execution_count": null,
   "metadata": {},
   "outputs": [],
   "source": [
    "# Question b\n",
    "\n",
    "alpha = 0.05 # Pour alpha=0.05, l'intervalle de confiance est de niveau 0.95\n",
    "n = 100\n",
    "m = 5\n",
    "N = 50\n",
    "\n",
    "quantile = norm.ppf(1 - alpha/2) # quantile de niveau (1-alpha/2) pour une N(0, 1)\n",
    "\n",
    "def count_m_inside(m, n, N, alpha):\n",
    "    \"\"\"\n",
    "    m: Moyenne, X suit une loi Normal(m, 1)\n",
    "    n: taille du vecteur X\n",
    "    N: quantite d'intervalles de confiance\n",
    "    alpha: valeur entre 0 et 1\n",
    "    \"\"\"\n",
    "    nb_times_m_in = 0\n",
    "    \n",
    "    \n",
    "    # Écrire le code permettant de générer N intervalles\n",
    "    # Puis, compter le nombre de fois où le paremètre m\n",
    "    # est compris dans l'intervalle\n",
    "    \n",
    "    return nb_times_m_in / N * 100"
   ]
  },
  {
   "cell_type": "code",
   "execution_count": null,
   "metadata": {},
   "outputs": [],
   "source": [
    "[count_m_inside(n, i, quantile) for i in [50, 100, 500, 1000, 10000, 100000]]"
   ]
  },
  {
   "cell_type": "code",
   "execution_count": null,
   "metadata": {},
   "outputs": [],
   "source": [
    "# Le pourcentage de fois où m est compris dans l'intervalle doit être égale à (1-alpha)*100\n",
    "# Plus le nombre d'intervalle est grand (plus N est grand), plus on doit se rapprocher de (1-alpha)*100\n"
   ]
  },
  {
   "cell_type": "markdown",
   "metadata": {},
   "source": [
    "*Solution Question 2*\n",
    "\n",
    "Le résultat suivant est donné afin de pouvoir compléter la partie pratique. Dans le compte rendu, **vous devez détailler** comment on obtient cet intervalle. \n",
    "\n",
    "\n",
    "Lorsque $\\sigma^2$ n'est pas connu, on utilise un estimateur de la variance. L'intervalle de confiance de niveau $1-\\alpha$ est :\n",
    "\n",
    "$$\n",
    "\\Big[\\bar{X}_n - \\frac{S_n}{\\sqrt{n}}t_{1-\\alpha / 2}, \\bar{X}_n + \\frac{S_n}{\\sqrt{n}}t_{1-\\alpha/2}\\Big]\n",
    "$$\n",
    "\n",
    "Ici, $S_n$ est la variance empirique et $t_{1-\\alpha/2}$ est le quantile de niveau $1-\\alpha/2$ d'une loi de Student avec $n-1$ degrées de liberté."
   ]
  },
  {
   "cell_type": "code",
   "execution_count": null,
   "metadata": {},
   "outputs": [],
   "source": [
    "# Question 2\n",
    "\n",
    "alpha = 0.05\n",
    "# Pour alpha=0.05, l'intervalle de confiance est de niveau 0.95\n",
    "n = 10000\n",
    "m = 5\n",
    "quantile = t.ppf(1 - alpha/2, n-1) # quantile pour une Student à n-1 degrés de liberté\n",
    "\n",
    "def count_m_inside_sigma_inconnu(m, n, N, alpha):\n",
    "    \"\"\"\n",
    "    m: Moyenne, X suit une loi Normal(m, 1)\n",
    "    n: taille du vecteur X\n",
    "    N: quantite d'intervalles de confiance\n",
    "    alpha: valeur entre 0 et 1\n",
    "    \"\"\"\n",
    "    nb_times_m_in = 0\n",
    "    \n",
    "    \n",
    "    # Écrire le code permettant de générer N intervalles\n",
    "    # Puis, compter le nombre de fois où le paremètre m\n",
    "    # est compris dans l'intervalle\n",
    "    \n",
    "    return nb_times_m_in / N * 100"
   ]
  },
  {
   "cell_type": "code",
   "execution_count": null,
   "metadata": {},
   "outputs": [],
   "source": [
    "[count_m_inside_sigma_inconnu(n, i, quantile) for i in [50, 100, 500, 1000, 10000, 100000]]"
   ]
  },
  {
   "cell_type": "code",
   "execution_count": null,
   "metadata": {},
   "outputs": [],
   "source": []
  }
 ],
 "metadata": {
  "kernelspec": {
   "display_name": "Python 3",
   "language": "python",
   "name": "python3"
  },
  "language_info": {
   "codemirror_mode": {
    "name": "ipython",
    "version": 3
   },
   "file_extension": ".py",
   "mimetype": "text/x-python",
   "name": "python",
   "nbconvert_exporter": "python",
   "pygments_lexer": "ipython3",
   "version": "3.7.4"
  }
 },
 "nbformat": 4,
 "nbformat_minor": 2
}
