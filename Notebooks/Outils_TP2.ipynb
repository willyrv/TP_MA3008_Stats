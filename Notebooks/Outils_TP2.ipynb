{
 "cells": [
  {
   "cell_type": "code",
   "execution_count": 3,
   "metadata": {},
   "outputs": [],
   "source": [
    "import numpy as np\n",
    "import matplotlib.pyplot as plt\n",
    "from scipy.stats import norm"
   ]
  },
  {
   "cell_type": "markdown",
   "metadata": {},
   "source": [
    "### Simulation de variables aléatoires\n",
    "La librairie *numpy* permet de simuler de valeurs issues de plusieurs lois de probabilités usuelles. Il es possible d'obtenir les valeurs en forme de matrice avec l'argument *size*. Voyons quelques exemples :"
   ]
  },
  {
   "cell_type": "code",
   "execution_count": 4,
   "metadata": {},
   "outputs": [
    {
     "name": "stdout",
     "output_type": "stream",
     "text": [
      "[[0.44042409 0.91299886 0.547125   0.84782187 0.81491136]]\n"
     ]
    }
   ],
   "source": [
    "# Simulation des valeurs issues d'une loi uniforme [0, 1]\n",
    "\n",
    "nb_lignes = 1\n",
    "nb_colonnes = 5\n",
    "X = np.random.uniform(0, 1, size=[nb_lignes, nb_colonnes])\n",
    "print(X)"
   ]
  },
  {
   "cell_type": "code",
   "execution_count": 5,
   "metadata": {},
   "outputs": [
    {
     "name": "stdout",
     "output_type": "stream",
     "text": [
      "[[0.41281463 0.09521201 0.45283303 0.3030344  0.58791365]\n",
      " [0.83080032 0.43026482 0.62800766 0.62650153 0.18783608]\n",
      " [0.78604004 0.57394724 0.41493825 0.44976243 0.45113996]]\n"
     ]
    }
   ],
   "source": [
    "nb_lignes = 3\n",
    "nb_colonnes = 5\n",
    "X = np.random.uniform(0, 1, size=[nb_lignes, nb_colonnes])\n",
    "print(X)"
   ]
  },
  {
   "cell_type": "markdown",
   "metadata": {},
   "source": [
    "**Simulation d'une variable Uniforme dans l'intervalle $[a, b]$**\n",
    "\n",
    "Si $X$ suit une loi uniforme dans $[0, 1]$, alors, $(b-a)X + a$ suit une loi Uniforme dans $[a, b]$."
   ]
  },
  {
   "cell_type": "code",
   "execution_count": 6,
   "metadata": {},
   "outputs": [
    {
     "name": "stdout",
     "output_type": "stream",
     "text": [
      "[0.56747493 0.13365015 0.24916474 0.24597395 0.44308617 0.42545827\n",
      " 0.25747843 0.36188848 0.88917538 0.90619204]\n",
      "[ 1.97232448 -1.06444893 -0.25584679 -0.27818233  1.10160322  0.97820786\n",
      " -0.197651    0.53321936  4.22422767  4.34334431]\n"
     ]
    }
   ],
   "source": [
    "a = -2\n",
    "b = 5\n",
    "U = np.random.uniform(0, 1, size=10)\n",
    "X = (b-a) * U + a\n",
    "print(U)\n",
    "print(X)"
   ]
  },
  {
   "cell_type": "markdown",
   "metadata": {},
   "source": [
    "On peut aussi simuler ves valeurs issue d'une loi Uniforme dans $[a, b]$ avec :\n",
    "\n",
    "```python\n",
    "np.random.uniform(a, b, size=[nb_lignes, nb_colonnes])\n",
    "```"
   ]
  },
  {
   "cell_type": "markdown",
   "metadata": {},
   "source": [
    "**Simulation d'une loi Normale**"
   ]
  },
  {
   "cell_type": "code",
   "execution_count": 7,
   "metadata": {},
   "outputs": [
    {
     "name": "stdout",
     "output_type": "stream",
     "text": [
      "[[ 1.04454841  1.1605706   2.17394067  0.51155638 -0.58410047]]\n"
     ]
    }
   ],
   "source": [
    "# Simulation des valeurs issues d'une loi Normal(0, 1)\n",
    "\n",
    "m = 0\n",
    "sigma = 1\n",
    "nb_lignes = 1\n",
    "nb_colonnes = 5\n",
    "X = np.random.normal(loc=m, scale=sigma, size=[nb_lignes, nb_colonnes])\n",
    "print(X)"
   ]
  },
  {
   "cell_type": "code",
   "execution_count": 8,
   "metadata": {},
   "outputs": [
    {
     "name": "stdout",
     "output_type": "stream",
     "text": [
      "[[-0.73020406  0.88927285 -0.02602152  0.02725174  0.75535461]\n",
      " [ 0.38060428  1.26187675 -0.73476021 -0.22065229 -0.75013845]\n",
      " [-0.92621143 -1.47519547  0.87295618  1.13561511 -0.31050978]]\n"
     ]
    }
   ],
   "source": [
    "# Simulation des valeurs issues d'une loi Normal(0, 1)\n",
    "\n",
    "m = 0\n",
    "sigma = 1\n",
    "nb_lignes = 3\n",
    "nb_colonnes = 5\n",
    "X = np.random.normal(loc=m, scale=sigma, size=[nb_lignes, nb_colonnes])\n",
    "print(X)"
   ]
  },
  {
   "cell_type": "markdown",
   "metadata": {},
   "source": [
    "Vous trouver plus de détails dans la [documentation](https://docs.scipy.org/doc/numpy-1.15.0/reference/routines.random.html) en ligne."
   ]
  },
  {
   "cell_type": "markdown",
   "metadata": {},
   "source": [
    "### Calcul de variance et covariance\n",
    "\n",
    "Un estimateur pour la variance d'un vecteur aléatoire $Y=(Y_1, Y_2, \\ldots, Y_n)$ est :\n",
    "\n",
    "$$\n",
    "\\hbox{Var} = \\frac{1}{n}\\sum_{i=1}^{n}Y_{i}^{2} - \\Big(\\frac{1}{n}\\sum_{i=1}^{n}Y_{i}\\Big)^{2}\n",
    "$$\n",
    "\n",
    "De même, la covariance de deux vecteurs $X=(X_1, X_2, \\ldots, X_n)$ et $Y=(Y_1, Y_2, \\ldots, Y_n)$ est estimée par :\n",
    "\n",
    "$$\n",
    "\\hbox{Cov}(X, Y) = \\frac{1}{n}\\sum_{i=1}^{n}(X_{i}Y_{i}) - \\Big(\\frac{1}{n}\\sum_{i=1}^{n}X_{i}\\Big)\\Big(\\frac{1}{n}\\sum_{i=1}^{n}Y_{i}\\Big)\n",
    "$$\n",
    "\n",
    "La fonction **numpy.cov** permet de calculer la matrice de Covariance de deux vecteurs. Voyons ça :"
   ]
  },
  {
   "cell_type": "code",
   "execution_count": 9,
   "metadata": {},
   "outputs": [],
   "source": [
    "def variance(Y):\n",
    "    # Compute the variance of Y\n",
    "    n = Y.shape[1]\n",
    "    varY = np.sum(Y**2) / n - (np.sum(Y) / n)**2\n",
    "    return varY\n",
    "\n",
    "def covariance(X, Y):\n",
    "    # Compute the covariance cov(X, Y)\n",
    "    n = X.shape[1]\n",
    "    covXY = np.sum(X * Y) / n - np.sum(X) * np.sum(Y) / n**2\n",
    "    return covXY\n"
   ]
  },
  {
   "cell_type": "code",
   "execution_count": 10,
   "metadata": {},
   "outputs": [],
   "source": [
    "# Exemple : prenons une variable uniforme [0, 1] et une normal(0, 1)\n",
    "n = 10000\n",
    "X = np.random.uniform(0, 1, size=[1, n])\n",
    "Y = np.random.normal(loc=0, scale=1, size=[1, n])\n",
    "MCov_XY = np.cov(X, Y, bias=True)\n",
    "VarX = variance(X)\n",
    "VarY = variance(Y)\n",
    "Cov_XY = covariance(X, Y)"
   ]
  },
  {
   "cell_type": "code",
   "execution_count": 11,
   "metadata": {},
   "outputs": [
    {
     "name": "stdout",
     "output_type": "stream",
     "text": [
      "Matrice de Covariance :\n",
      "[[ 0.08281068 -0.00213724]\n",
      " [-0.00213724  1.02785976]]\n",
      "Variance de X : 0.08281068123778318\n",
      "Variance de Y : 1.0278597589298288\n",
      "Cov(X, Y) : -0.0021372352329207213\n"
     ]
    }
   ],
   "source": [
    "print(\"Matrice de Covariance :\")\n",
    "print(MCov_XY)\n",
    "print(\"Variance de X : {}\".format(VarX))\n",
    "print(\"Variance de Y : {}\".format(VarY))\n",
    "print(\"Cov(X, Y) : {}\".format(Cov_XY))\n"
   ]
  },
  {
   "cell_type": "markdown",
   "metadata": {},
   "source": [
    "Notez que :\n",
    "```python\n",
    "np.cov(X, Y)[0, 0]  # donne Var(X)\n",
    "np.cov(X, Y)[1, 1]  # donne Var(Y)\n",
    "np.cov(X, Y)[0, 1]  # donne Cov(X, Y)\n",
    "```"
   ]
  },
  {
   "cell_type": "code",
   "execution_count": 12,
   "metadata": {},
   "outputs": [
    {
     "data": {
      "text/plain": [
       "[<matplotlib.lines.Line2D at 0x7f15c2e91090>]"
      ]
     },
     "execution_count": 12,
     "metadata": {},
     "output_type": "execute_result"
    },
    {
     "data": {
      "image/png": "[encoded data removed]",
      "text/plain": [
       "<Figure size 432x288 with 1 Axes>"
      ]
     },
     "metadata": {
      "needs_background": "light"
     },
     "output_type": "display_data"
    }
   ],
   "source": [
    "m = 0\n",
    "sigma = 3\n",
    "Y = np.random.normal(loc=m, scale=sigma, size=10000)\n",
    "x = np.arange(-15, 15, 0.1)\n",
    "y = norm.pdf(x, loc=m, scale=sigma)\n",
    "plt.hist(Y, bins=50, density=True)\n",
    "plt.plot(x, y)"
   ]
  },
  {
   "cell_type": "code",
   "execution_count": 13,
   "metadata": {},
   "outputs": [
    {
     "data": {
      "image/png": "[encoded data removed]",
      "text/plain": [
       "<Figure size 432x288 with 1 Axes>"
      ]
     },
     "metadata": {
      "needs_background": "light"
     },
     "output_type": "display_data"
    }
   ],
   "source": [
    "# TCL pour N variables aleatoires avec loi Uniforme [0, 1]\n",
    "\n",
    "n = 100000\n",
    "N = 100\n",
    "E_X = 0.5\n",
    "Var_X = 1/12\n",
    "sigma_X = np.sqrt(Var_X)\n",
    "bins = np.arange(-5, 5, 0.2)\n",
    "X = np.random.uniform(0, 1, size=[n, N])\n",
    "X_bar = np.mean(X, axis=1)\n",
    "Z = np.sqrt(N) * (X_bar - E_X) / sigma_X\n",
    "x = np.arange(-5, 5, 0.1)\n",
    "y = norm.pdf(x, loc=0, scale=1)\n",
    "plt.hist(Z, bins=bins, density=True)\n",
    "plt.plot(x, y, label=\"densite theorique\")\n",
    "plt.legend()\n",
    "plt.show()"
   ]
  },
  {
   "cell_type": "code",
   "execution_count": 15,
   "metadata": {},
   "outputs": [
    {
     "data": {
      "image/png": "[encoded data removed]",
      "text/plain": [
       "<Figure size 432x288 with 1 Axes>"
      ]
     },
     "metadata": {
      "needs_background": "light"
     },
     "output_type": "display_data"
    }
   ],
   "source": [
    "# TCL pour N variables aleatoires avec loi Uniforme [0, 1]\n",
    "\n",
    "n = 100000\n",
    "N = 100\n",
    "E_X = 0.5\n",
    "Var_X = 1/12\n",
    "sigma_X = np.sqrt(Var_X)\n",
    "bins = np.arange(-5, 5, 0.2)\n",
    "X = np.random.uniform(0, 1, size=[n, N])\n",
    "X_bar = np.mean(X, axis=1)\n",
    "Z = np.sqrt(N) * (X_bar - E_X)  \n",
    "x = np.arange(-5, 5, 0.1)\n",
    "y = norm.pdf(x, loc=0, scale=sigma_X)\n",
    "plt.hist(Z, bins=bins, density=True)\n",
    "plt.plot(x, y, label=\"densite theorique\")\n",
    "plt.legend()\n",
    "plt.show()"
   ]
  },
  {
   "cell_type": "code",
   "execution_count": null,
   "metadata": {},
   "outputs": [],
   "source": []
  }
 ],
 "metadata": {
  "kernelspec": {
   "display_name": "Python 3",
   "language": "python",
   "name": "python3"
  }
 },
 "nbformat": 4,
 "nbformat_minor": 2
}
